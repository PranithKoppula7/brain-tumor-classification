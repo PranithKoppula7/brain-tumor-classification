{
 "cells": [
  {
   "cell_type": "markdown",
   "id": "ab3a9331",
   "metadata": {},
   "source": [
    "**CNNs (Convolutional Neural Networks) for MRI**"
   ]
  },
  {
   "cell_type": "code",
   "execution_count": 1,
   "id": "d0d86587",
   "metadata": {},
   "outputs": [],
   "source": [
    "import os\n",
    "import numpy as np\n",
    "import tensorflow as tf\n",
    "from tensorflow.keras.preprocessing.image import ImageDataGenerator"
   ]
  },
  {
   "cell_type": "code",
   "execution_count": 2,
   "id": "966277ca",
   "metadata": {},
   "outputs": [],
   "source": [
    "train_data_dir = './train'\n",
    "test_data_dir = './test'"
   ]
  },
  {
   "cell_type": "code",
   "execution_count": 3,
   "id": "2eef71a8",
   "metadata": {},
   "outputs": [],
   "source": [
    "class_names = ['no_tumor', 'pituitary_tumor', 'meningioma_tumor','glioma_tumor']"
   ]
  },
  {
   "cell_type": "code",
   "execution_count": 4,
   "id": "c2230e09",
   "metadata": {},
   "outputs": [
    {
     "name": "stdout",
     "output_type": "stream",
     "text": [
      "Found 2870 images belonging to 4 classes.\n",
      "Found 394 images belonging to 4 classes.\n"
     ]
    }
   ],
   "source": [
    "datagen = ImageDataGenerator(rescale=1./255)\n",
    "\n",
    "batch_size = 32 #number of training examples in one forward/backward pass. higher batch size = more memory space needed\n",
    "\n",
    "train_generator = datagen.flow_from_directory(\n",
    "        train_data_dir,\n",
    "        target_size=(150, 150),\n",
    "        batch_size=batch_size,\n",
    "        class_mode='categorical')\n",
    "\n",
    "validation_generator = datagen.flow_from_directory(\n",
    "        test_data_dir,\n",
    "        target_size=(150, 150),\n",
    "        batch_size=batch_size,\n",
    "        class_mode='categorical')"
   ]
  },
  {
   "cell_type": "code",
   "execution_count": 5,
   "id": "7b5cac8c",
   "metadata": {},
   "outputs": [],
   "source": [
    "model = tf.keras.models.Sequential([\n",
    "    tf.keras.layers.Conv2D(16, (3,3), activation='relu', input_shape=(150, 150, 3)),\n",
    "    tf.keras.layers.MaxPooling2D(2,2),\n",
    "    tf.keras.layers.Conv2D(32, (3,3), activation='relu'),\n",
    "    tf.keras.layers.MaxPooling2D(2,2),\n",
    "    tf.keras.layers.Conv2D(64, (3,3), activation='relu'),\n",
    "    tf.keras.layers.MaxPooling2D(2,2),\n",
    "    tf.keras.layers.Flatten(),\n",
    "    tf.keras.layers.Dense(512, activation='relu'),\n",
    "    tf.keras.layers.Dense(4, activation='softmax')\n",
    "])\n"
   ]
  },
  {
   "cell_type": "code",
   "execution_count": 6,
   "id": "d1bbf918",
   "metadata": {},
   "outputs": [
    {
     "name": "stdout",
     "output_type": "stream",
     "text": [
      "Epoch 1/10\n",
      "89/89 [==============================] - 44s 484ms/step - loss: 0.9594 - accuracy: 0.6131 - val_loss: 1.8877 - val_accuracy: 0.3776\n",
      "Epoch 2/10\n",
      "89/89 [==============================] - 15s 167ms/step - loss: 0.5098 - accuracy: 0.7963 - val_loss: 1.6610 - val_accuracy: 0.5547\n",
      "Epoch 3/10\n",
      "89/89 [==============================] - 15s 173ms/step - loss: 0.3246 - accuracy: 0.8753 - val_loss: 1.6658 - val_accuracy: 0.6693\n",
      "Epoch 4/10\n",
      "89/89 [==============================] - 18s 196ms/step - loss: 0.1985 - accuracy: 0.9341 - val_loss: 2.3707 - val_accuracy: 0.6615\n",
      "Epoch 5/10\n",
      "89/89 [==============================] - 16s 174ms/step - loss: 0.1119 - accuracy: 0.9612 - val_loss: 2.4610 - val_accuracy: 0.6901\n",
      "Epoch 6/10\n",
      "89/89 [==============================] - 20s 219ms/step - loss: 0.0512 - accuracy: 0.9838 - val_loss: 3.6846 - val_accuracy: 0.7240\n",
      "Epoch 7/10\n",
      "89/89 [==============================] - 19s 208ms/step - loss: 0.0490 - accuracy: 0.9831 - val_loss: 3.2802 - val_accuracy: 0.6927\n",
      "Epoch 8/10\n",
      "89/89 [==============================] - 19s 212ms/step - loss: 0.0292 - accuracy: 0.9908 - val_loss: 3.4000 - val_accuracy: 0.7682\n",
      "Epoch 9/10\n",
      "89/89 [==============================] - 19s 210ms/step - loss: 0.0316 - accuracy: 0.9915 - val_loss: 3.7678 - val_accuracy: 0.7292\n",
      "Epoch 10/10\n",
      "89/89 [==============================] - 20s 219ms/step - loss: 0.0120 - accuracy: 0.9972 - val_loss: 4.1433 - val_accuracy: 0.7344\n"
     ]
    }
   ],
   "source": [
    "model.compile(loss='categorical_crossentropy',\n",
    "              optimizer=tf.keras.optimizers.Adam(),\n",
    "              metrics=['accuracy'])\n",
    "\n",
    "history = model.fit(train_generator,\n",
    "                    steps_per_epoch=train_generator.n//train_generator.batch_size,\n",
    "                    epochs=10,\n",
    "                    validation_data=validation_generator,\n",
    "                    validation_steps=validation_generator.n//validation_generator.batch_size)"
   ]
  },
  {
   "cell_type": "code",
   "execution_count": 8,
   "id": "78015dc7",
   "metadata": {},
   "outputs": [
    {
     "name": "stdout",
     "output_type": "stream",
     "text": [
      "Found 394 images belonging to 4 classes.\n",
      "13/13 [==============================] - 1s 80ms/step - loss: 4.0390 - accuracy: 0.7411\n"
     ]
    },
    {
     "data": {
      "text/plain": [
       "[4.039004802703857, 0.7411167621612549]"
      ]
     },
     "execution_count": 8,
     "metadata": {},
     "output_type": "execute_result"
    }
   ],
   "source": [
    "test_generator = datagen.flow_from_directory(\n",
    "        test_data_dir,\n",
    "        target_size=(150, 150),\n",
    "        batch_size=batch_size,\n",
    "        class_mode='categorical',\n",
    "        shuffle=False)\n",
    "\n",
    "model.evaluate(test_generator)"
   ]
  },
  {
   "cell_type": "markdown",
   "id": "09dfb49a",
   "metadata": {},
   "source": [
    "The model correctly identified 74.11% of images in the dataset. The model's loss value on the dataset was 4.04. Loss value is equal to the average difference between predicted output of the model and actual output. "
   ]
  }
 ],
 "metadata": {
  "kernelspec": {
   "display_name": "tensorflow",
   "language": "python",
   "name": "tensorflow"
  },
  "language_info": {
   "codemirror_mode": {
    "name": "ipython",
    "version": 3
   },
   "file_extension": ".py",
   "mimetype": "text/x-python",
   "name": "python",
   "nbconvert_exporter": "python",
   "pygments_lexer": "ipython3",
   "version": "3.10.9"
  }
 },
 "nbformat": 4,
 "nbformat_minor": 5
}
